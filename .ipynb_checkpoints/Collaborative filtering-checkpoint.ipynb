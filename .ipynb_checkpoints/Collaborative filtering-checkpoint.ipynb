{
 "cells": [
  {
   "cell_type": "markdown",
   "metadata": {},
   "source": [
    "# Collaborative filtering\n",
    "Collaborative filtering is a common approach to facilitate recommender systems. This is a simple demonstration of using user-to-product data to carry out a recommender task using a 100,000-size movie ratings."
   ]
  },
  {
   "cell_type": "code",
   "execution_count": 7,
   "metadata": {},
   "outputs": [],
   "source": [
    "import numpy as np\n",
    "import pandas as pd"
   ]
  },
  {
   "cell_type": "code",
   "execution_count": 3,
   "metadata": {},
   "outputs": [],
   "source": [
    "# !curl -O http://files.grouplens.org/datasets/movielens/ml-100k.zip\n",
    "# !unzip ml-100k.zip"
   ]
  },
  {
   "cell_type": "code",
   "execution_count": 4,
   "metadata": {},
   "outputs": [
    {
     "name": "stdout",
     "output_type": "stream",
     "text": [
      "  % Total    % Received % Xferd  Average Speed   Time    Time     Time  Current\n",
      "                                 Dload  Upload   Total   Spent    Left  Speed\n",
      "  0     0    0     0    0     0      0      0 --:--:-- --:--:-- --:--:--     0curl: (6) Could not resolve host: files.grouplens.org\n",
      "Archive:  ml-100k.zip\n",
      "replace ml-100k/allbut.pl? [y]es, [n]o, [A]ll, [N]one, [r]ename: ^C\n"
     ]
    }
   ],
   "source": [
    "!curl -O http://files.grouplens.org/datasets/movielens/ml-100k.zip\n",
    "!unzip ml-100k.zip"
   ]
  },
  {
   "cell_type": "code",
   "execution_count": 8,
   "metadata": {},
   "outputs": [
    {
     "name": "stdout",
     "output_type": "stream",
     "text": [
      "Collaborative filtering.ipynb ml-100k.zip\n",
      "\u001b[34mml-100k\u001b[m\u001b[m\n",
      "196\t242\t3\t881250949\n",
      "186\t302\t3\t891717742\n",
      "22\t377\t1\t878887116\n",
      "244\t51\t2\t880606923\n",
      "166\t346\t1\t886397596\n",
      "298\t474\t4\t884182806\n",
      "115\t265\t2\t881171488\n",
      "253\t465\t5\t891628467\n",
      "305\t451\t3\t886324817\n",
      "6\t86\t3\t883603013\n",
      "\n",
      "  100000 ml-100k/u.data\n"
     ]
    }
   ],
   "source": [
    "!ls\n",
    "!head ml-100k/u.data\n",
    "!echo # line break\n",
    "!wc -l ml-100k/u.data"
   ]
  },
  {
   "cell_type": "code",
   "execution_count": 13,
   "metadata": {
    "scrolled": false
   },
   "outputs": [
    {
     "data": {
      "text/html": [
       "<div>\n",
       "<style scoped>\n",
       "    .dataframe tbody tr th:only-of-type {\n",
       "        vertical-align: middle;\n",
       "    }\n",
       "\n",
       "    .dataframe tbody tr th {\n",
       "        vertical-align: top;\n",
       "    }\n",
       "\n",
       "    .dataframe thead th {\n",
       "        text-align: right;\n",
       "    }\n",
       "</style>\n",
       "<table border=\"1\" class=\"dataframe\">\n",
       "  <thead>\n",
       "    <tr style=\"text-align: right;\">\n",
       "      <th></th>\n",
       "      <th>user_id</th>\n",
       "      <th>item_id</th>\n",
       "      <th>rating</th>\n",
       "      <th>timestamp</th>\n",
       "    </tr>\n",
       "  </thead>\n",
       "  <tbody>\n",
       "    <tr>\n",
       "      <th>0</th>\n",
       "      <td>196</td>\n",
       "      <td>242</td>\n",
       "      <td>3</td>\n",
       "      <td>881250949</td>\n",
       "    </tr>\n",
       "    <tr>\n",
       "      <th>1</th>\n",
       "      <td>186</td>\n",
       "      <td>302</td>\n",
       "      <td>3</td>\n",
       "      <td>891717742</td>\n",
       "    </tr>\n",
       "    <tr>\n",
       "      <th>2</th>\n",
       "      <td>22</td>\n",
       "      <td>377</td>\n",
       "      <td>1</td>\n",
       "      <td>878887116</td>\n",
       "    </tr>\n",
       "    <tr>\n",
       "      <th>3</th>\n",
       "      <td>244</td>\n",
       "      <td>51</td>\n",
       "      <td>2</td>\n",
       "      <td>880606923</td>\n",
       "    </tr>\n",
       "    <tr>\n",
       "      <th>4</th>\n",
       "      <td>166</td>\n",
       "      <td>346</td>\n",
       "      <td>1</td>\n",
       "      <td>886397596</td>\n",
       "    </tr>\n",
       "  </tbody>\n",
       "</table>\n",
       "</div>"
      ],
      "text/plain": [
       "   user_id  item_id  rating  timestamp\n",
       "0      196      242       3  881250949\n",
       "1      186      302       3  891717742\n",
       "2       22      377       1  878887116\n",
       "3      244       51       2  880606923\n",
       "4      166      346       1  886397596"
      ]
     },
     "execution_count": 13,
     "metadata": {},
     "output_type": "execute_result"
    }
   ],
   "source": [
    "names = ['user_id', 'item_id', 'rating', 'timestamp']\n",
    "df = pd.read_csv('ml-100k/u.data', sep='\\t', names=names)\n",
    "df.head()"
   ]
  },
  {
   "cell_type": "code",
   "execution_count": 10,
   "metadata": {
    "scrolled": true
   },
   "outputs": [
    {
     "name": "stdout",
     "output_type": "stream",
     "text": [
      "943 users\n",
      "1682 items\n"
     ]
    }
   ],
   "source": [
    "n_users = df.user_id.unique().shape[0]\n",
    "n_items = df.item_id.unique().shape[0]\n",
    "print(str(n_users) + ' users')\n",
    "print(str(n_items) + ' items')"
   ]
  },
  {
   "cell_type": "code",
   "execution_count": 11,
   "metadata": {},
   "outputs": [
    {
     "data": {
      "text/plain": [
       "array([[5., 3., 4., ..., 0., 0., 0.],\n",
       "       [4., 0., 0., ..., 0., 0., 0.],\n",
       "       [0., 0., 0., ..., 0., 0., 0.],\n",
       "       ...,\n",
       "       [5., 0., 0., ..., 0., 0., 0.],\n",
       "       [0., 0., 0., ..., 0., 0., 0.],\n",
       "       [0., 5., 0., ..., 0., 0., 0.]])"
      ]
     },
     "execution_count": 11,
     "metadata": {},
     "output_type": "execute_result"
    }
   ],
   "source": [
    "ratings = np.zeros((n_users, n_items))\n",
    "for row in df.itertuples():\n",
    "    ratings[row[1]-1, row[2]-1] = row[3]\n",
    "ratings"
   ]
  },
  {
   "cell_type": "code",
   "execution_count": 14,
   "metadata": {},
   "outputs": [
    {
     "name": "stdout",
     "output_type": "stream",
     "text": [
      "Sparsity: 6.30%\n"
     ]
    }
   ],
   "source": [
    "sparsity = float(len(ratings.nonzero()[0]))\n",
    "sparsity /= (ratings.shape[0] * ratings.shape[1])\n",
    "sparsity *= 100\n",
    "print('Sparsity: {:4.2f}%'.format(sparsity))"
   ]
  },
  {
   "cell_type": "code",
   "execution_count": 15,
   "metadata": {},
   "outputs": [],
   "source": [
    "def train_test_split(ratings):\n",
    "    test = np.zeros(ratings.shape)\n",
    "    train = ratings.copy()\n",
    "    for user in range(ratings.shape[0]):\n",
    "        test_ratings = np.random.choice(ratings[user,:].nonzero()[0], size=10, replace=False)\n",
    "        train[user, test_ratings] = 0\n",
    "        test[user, test_ratings] = ratings[user, test_ratings]\n",
    "    assert(np.all((train * test) == 0))\n",
    "    return train, test"
   ]
  },
  {
   "cell_type": "code",
   "execution_count": 16,
   "metadata": {},
   "outputs": [],
   "source": [
    "train, test = train_test_split(ratings)"
   ]
  },
  {
   "cell_type": "code",
   "execution_count": 71,
   "metadata": {},
   "outputs": [],
   "source": [
    "def fast_similarity(ratings, kind='user', epsilon=1e-9):\n",
    "    if kind == 'user':\n",
    "        sim = ratings.dot(ratings.T) + epsilon\n",
    "    elif kind == 'item':\n",
    "        sim = ratings.T.dot(ratings) + epsilon\n",
    "    norms = np.array([np.sqrt(np.diagonal(sim))])\n",
    "    print(norms.shape)\n",
    "    return (sim / norms / norms.T)"
   ]
  },
  {
   "cell_type": "code",
   "execution_count": 72,
   "metadata": {},
   "outputs": [
    {
     "name": "stdout",
     "output_type": "stream",
     "text": [
      "(1, 943)\n",
      "(1, 1682)\n",
      "(943, 943)\n"
     ]
    }
   ],
   "source": [
    "user_similarity = fast_similarity(train, kind='user')\n",
    "item_similarity = fast_similarity(train, kind='item')\n",
    "print(user_similarity.shape)"
   ]
  },
  {
   "cell_type": "code",
   "execution_count": 43,
   "metadata": {},
   "outputs": [
    {
     "data": {
      "text/plain": [
       "array([209.53407838, 142.80390891,  90.45588447,  69.02006864,\n",
       "       151.02026916, 207.05095717, 214.844726  , 149.0431323 ,\n",
       "        51.67537354, 186.73945015, 169.28613428, 134.08338637,\n",
       "       231.67450892, 164.29533619, 155.25316451, 193.09402328,\n",
       "       106.25389138, 194.44667542,  60.49246173, 123.22721639,\n",
       "       140.45919778, 154.19690659, 180.59722323, 158.0782537 ,\n",
       "       152.46820377, 198.61686361,  83.97293201, 159.67262531,\n",
       "        87.48856117, 124.29371874,  57.45400161, 125.36458117,\n",
       "        95.5764124 ,  54.2629268 ,  67.59185791,  37.88284449,\n",
       "       133.3723612 , 112.70148341,  81.78999661, 102.10467909,\n",
       "       141.25722855, 192.56254118, 229.98094319, 202.37913544,\n",
       "       118.97189261, 103.46859291,  80.02203316, 128.82871536,\n",
       "       149.38124724,  52.53021423,  89.9506376 , 134.22513232,\n",
       "        97.51658846, 162.74840134,  94.70763021, 198.53491692,\n",
       "       175.79183985, 189.37097961, 224.83694183, 181.45822424,\n",
       "        57.29494479, 219.7157056 , 163.04277444, 221.64661476,\n",
       "       150.87364744, 150.77249591,  77.07587704, 121.48548851,\n",
       "       167.52213044, 175.19395547, 123.17300561, 177.22615259,\n",
       "       130.36556179, 139.01483234, 123.8478628 , 125.73906019,\n",
       "       150.51919361,  58.41905727, 107.83544735,  80.27095529,\n",
       "       136.46489613, 204.8731063 , 154.05842821, 148.52548105,\n",
       "       214.68771182,  49.48825265, 181.33425849,  51.10840383,\n",
       "       148.53996022, 194.27223116, 163.73010856, 229.43495863,\n",
       "        59.23963304, 221.18738601, 211.89324431, 156.23325672,\n",
       "       134.19725974,  52.29134738, 191.84904476, 115.69505864,\n",
       "       125.12533852, 200.21266479, 109.65962955, 173.09995882,\n",
       "        72.56233212, 123.71518331,  61.16789087, 130.75125329,\n",
       "       219.54285711, 128.26374141,  90.03347883, 105.03704703,\n",
       "       124.6772775 , 104.32085186, 159.0696795 , 164.45229692,\n",
       "       178.97132223, 119.567947  , 191.05859417, 101.93782826,\n",
       "       155.747837  ,  72.08771255, 123.89351517,  76.6084901 ,\n",
       "       180.03248075,  97.39672538,  68.39072537, 191.00875692,\n",
       "       106.47741242, 212.67796604,  77.59023046,  54.12789416,\n",
       "        89.18866826,  93.82490756, 102.29485461, 113.24895145,\n",
       "       132.59867962, 116.89400331,  76.1246248 ,  66.01950056,\n",
       "       156.85624744,  79.01548647,  82.66365778, 220.09981568,\n",
       "       206.95006412,  91.81683706,  56.26137962, 123.37005758,\n",
       "        88.01537427, 118.11500185, 207.61748113, 125.35117958,\n",
       "        88.45853956, 134.22454543,  82.42875086,  82.37810742,\n",
       "       137.19501084, 180.7565643 , 135.32864613, 158.40241237,\n",
       "       143.93465542, 112.74716727, 108.47162295, 126.05246122,\n",
       "        80.44701958, 102.58064234,  73.90686285, 139.58068049,\n",
       "       102.07139107,  78.09214124,  87.92038383,  44.73609552,\n",
       "       106.00954826, 150.58929802, 116.36322759, 128.08843837,\n",
       "       197.29553806, 250.47246981,  89.38236286,  97.21535021,\n",
       "       167.72975786,  96.61568753,  99.56251452, 195.618934  ,\n",
       "       138.87451568, 113.47143596,  98.9461882 , 177.76328124,\n",
       "       174.73788288, 152.25799408,  78.61904519, 104.63056686,\n",
       "       150.83475484, 222.57655626, 117.66640752,  78.66273171,\n",
       "       173.13729407, 208.04886161, 118.17086414, 192.79511735,\n",
       "       219.458159  ,  56.77766677, 132.33739948,  99.86788758,\n",
       "        93.45212218, 106.86976826, 210.17308968,  72.00523336,\n",
       "        94.98229903, 189.31093964,  84.70499904,  71.27326649,\n",
       "       197.59151163, 182.46739943, 187.0702847 , 187.8839173 ,\n",
       "       117.56100933, 108.54512403,  57.44651717,  99.87671545,\n",
       "       165.80757972, 243.55711387, 147.30851913, 128.09467365,\n",
       "        66.31022178, 116.75774364, 114.39819076,  56.33612536,\n",
       "        81.28030215, 188.44867486,  69.583745  , 172.7395219 ,\n",
       "       169.87321808, 211.47789148, 144.96402378, 186.14743311,\n",
       "       108.95634539, 100.56177787, 150.71371741,  84.5749662 ,\n",
       "        79.59696964,  35.28541963, 114.01262165, 179.15286302,\n",
       "        47.5381174 , 158.55279484, 122.22211413, 152.18177616,\n",
       "       206.0415585 , 175.55592523, 176.47519743,  72.85431469,\n",
       "       175.34904648, 162.19152494, 119.6555184 , 176.22631128,\n",
       "       118.02780833,  79.07462944, 130.54549064,  53.00320325,\n",
       "        74.20583503, 167.10116499, 190.01748728, 143.27770945,\n",
       "       134.52696171,  87.0472175 , 179.01133774, 216.31696388,\n",
       "       180.13065588, 138.38932831, 235.84844651, 123.19878899,\n",
       "        49.4023301 , 147.41634163, 165.91312486, 250.70875385,\n",
       "       134.03213854,  87.72819367, 159.68311789, 183.31305423,\n",
       "        83.00120267,  62.13395449, 110.24930596, 118.03539812,\n",
       "       130.95018649, 181.33086247, 141.78165297, 173.1587599 ,\n",
       "        76.54553846, 174.73082461, 178.44220319, 181.7391453 ,\n",
       "       239.7508353 , 188.84506369, 170.44121224, 201.38690219,\n",
       "       238.30438084, 190.5111374 , 195.572386  ,  39.62728268,\n",
       "       225.93057688,  71.02960812, 244.89225148,  85.08110093,\n",
       "       202.68080859,  87.50440791, 168.77944174, 221.06572354,\n",
       "        79.31680811,  53.10314069, 211.38945454, 157.22445503,\n",
       "       217.47329432, 146.87765836, 147.89123573, 131.09887496,\n",
       "        58.2341379 , 168.69532187,  61.79458333, 159.27224589,\n",
       "       141.65226239, 117.31665955, 175.97986954, 149.81189724,\n",
       "       156.91490174, 170.26057458, 220.19727452, 222.3635076 ,\n",
       "       170.29556023, 178.97415966,  94.68043624, 203.00943352,\n",
       "       106.88140482, 228.25594643,  97.26291972, 136.65126007,\n",
       "        98.30184062, 117.99794828, 209.14468656, 107.10427212,\n",
       "        18.62135139, 164.65913629, 202.82349118, 213.36472353,\n",
       "       214.77865051, 194.12922529, 220.34243118, 106.38839114,\n",
       "        79.12547884, 143.52052604, 100.4279724 , 121.25736885,\n",
       "        75.73809152, 171.3364641 ,  49.71742156,  87.14003448,\n",
       "       119.69122474,  52.72163224, 111.12660595, 180.18231053,\n",
       "       163.77015382, 104.39448679, 210.03475483,  75.87808294,\n",
       "       132.69011396,  48.92493559,  82.21047529,  93.33030006,\n",
       "        55.21342642, 133.49459761, 136.49971925, 100.79694497,\n",
       "       189.13380972, 201.3886768 ,  69.943152  ,  96.3652296 ,\n",
       "       102.76170218, 234.62137967, 194.57252323, 194.88536078,\n",
       "       139.03552956, 103.42468189, 123.88665714,  78.8061354 ,\n",
       "       150.90731412,  83.95790534, 207.09788786, 134.82308997,\n",
       "       182.55509742, 103.19972136, 185.45963038, 158.80385107,\n",
       "       199.11676181, 181.98942385, 170.16501562, 115.72918433,\n",
       "       164.50875037, 189.32043575, 190.36667626, 103.54478295,\n",
       "       182.2503886 , 159.55588455, 150.75948481, 119.9908547 ,\n",
       "       179.83213444, 212.2413785 , 219.03496453,  99.64349606,\n",
       "       174.87133117,  84.73965314, 147.09778314, 110.44484457,\n",
       "       155.35050235,  95.80849595,  77.92846417, 247.31008073,\n",
       "       217.51308087,  92.52010557, 111.09021972,  86.13954654,\n",
       "       139.83787956, 154.89847634, 127.21753262, 127.3679255 ,\n",
       "       197.68631383, 104.64986334,  75.16234426, 102.2004256 ,\n",
       "       239.61095005, 164.62774055,  78.90181481, 141.92874178,\n",
       "       109.51008475,  69.49321096, 222.4098313 , 131.1522688 ,\n",
       "       188.15189556, 104.38830852,  81.8257648 ,  79.2215273 ,\n",
       "       100.66925902, 154.22137894,  91.85409626, 118.26887887,\n",
       "       164.86971311,  97.26413349, 198.44524022,  80.36405601,\n",
       "        88.20491286, 233.56279045, 113.0294691 , 199.5282338 ,\n",
       "       186.97901874, 226.05962909, 222.25174691, 177.75748615,\n",
       "       232.33637873, 182.7245401 , 182.64017928, 129.82337184,\n",
       "       106.27704596, 102.83555295, 148.40449156, 144.13627919,\n",
       "       166.40589662, 166.95488324, 122.36364737, 197.83637798,\n",
       "        75.77290557, 146.21781034,  44.53869082, 193.66976783,\n",
       "        84.93642671, 238.95208305,  68.46942915, 105.72564926,\n",
       "        57.91345136, 154.91949882, 215.76313669, 119.28165516,\n",
       "       112.16156571, 105.20907127, 129.68848958, 212.79851062,\n",
       "        56.61914118, 172.05351305, 211.48866642, 216.95411004,\n",
       "       115.91635713, 125.97023655,  94.76488124, 101.21579682,\n",
       "       207.06862915, 138.56175656, 163.92821943, 142.74552544,\n",
       "       197.95781621, 170.1486527 , 164.34242674, 189.77560763,\n",
       "       129.98601998,  86.86181194, 184.97542378, 181.13845828,\n",
       "       174.09509153, 187.14194356, 133.61117109, 153.73850493,\n",
       "       124.3619746 , 105.73164303,  75.02046654,  97.07700239,\n",
       "        97.84864155, 224.89044464, 102.24824744,  84.94814703,\n",
       "       104.22975899, 118.84137968,  36.1796599 ,  69.12122994,\n",
       "       200.57048262,  70.61072686, 115.63104789, 203.92328218,\n",
       "       134.36633629, 163.62406644, 168.8415624 , 138.006485  ,\n",
       "       102.21845946, 119.69325418,  69.00378666, 182.52342153,\n",
       "       246.10512729, 122.99170272, 187.84713455, 170.09973406,\n",
       "       234.28070335, 185.70786035, 115.19135308, 156.14247131,\n",
       "       140.2064611 , 170.01317104, 180.78474157, 108.04718434,\n",
       "       179.56577286, 101.25528915,  75.52351438, 199.25684636,\n",
       "       107.83153454, 144.3474556 , 226.06564854, 167.72481849,\n",
       "       131.28708991, 196.97204979, 133.44690011,  95.84794408,\n",
       "        99.46518733,  45.06762283, 118.45564677, 171.27756703,\n",
       "       209.15841649, 132.3948231 ,  86.70259137, 117.93285563,\n",
       "        33.98820713, 171.39640442, 146.07222335, 104.92219182,\n",
       "       174.23089422,  81.09510243,  57.46970729,  94.49586829,\n",
       "       113.36112212, 111.71475509,  88.42429989, 129.26430539,\n",
       "       186.93725213,  94.98809132, 170.78300355, 132.29187666,\n",
       "        85.08960105, 148.42828345,  73.17599245,  62.49350241,\n",
       "        52.31952557, 166.03529566, 116.23948234, 189.52235875,\n",
       "       108.32492648,  97.56128044, 123.29785916, 239.52211365,\n",
       "       191.48026911,  87.23370628, 130.31461207,  99.00125003,\n",
       "       108.74906542, 101.81866611,  69.37789755, 118.33640666,\n",
       "       179.98153486, 108.80652838, 143.4765785 ,  69.51472622,\n",
       "       170.89543218, 230.97659021,  75.19401414, 165.69278741,\n",
       "        65.49046269, 160.11179123,  82.50212509,  89.90376015,\n",
       "        87.36468226, 100.39838993, 145.89803021, 119.37625191,\n",
       "        89.57640543, 217.01836136, 150.18307637, 125.69760021,\n",
       "       166.16529076, 193.43701707, 132.0870267 , 187.05814785,\n",
       "       176.61418881, 101.16080704, 175.89186631,  95.37810513,\n",
       "       203.33003205, 176.43157584,  81.07964114, 184.54545876,\n",
       "       130.57051752, 190.02856165, 104.84480658,  71.52524295,\n",
       "       161.18782065, 156.66859613, 130.526742  , 132.65630718,\n",
       "        76.70578983, 161.47372355, 198.48094689, 124.57549023,\n",
       "       158.54927252,  66.89350322, 129.21946222, 203.11029341,\n",
       "        73.09313847, 224.86815575,  61.53463383,  75.59424217,\n",
       "       231.4788034 , 211.35243652, 208.18660345,  53.18271205,\n",
       "       115.04883717, 129.18082614, 176.71041161, 203.03698851,\n",
       "       194.85639503,  83.2381915 , 212.5997063 , 193.5824924 ,\n",
       "       197.75490764, 219.55944553, 115.6706011 , 124.42008502,\n",
       "       182.09166027,  88.26404418, 150.43179749,  83.74001626,\n",
       "       110.66828168, 142.42000019,  53.34731613, 170.12628949,\n",
       "       121.43666104, 101.29807533, 168.12871299, 123.58773387,\n",
       "        53.67711343, 229.54499723, 133.79459537, 142.5431702 ,\n",
       "        51.81167724, 141.14790878,  81.08985552,  48.15324297,\n",
       "       150.58381272, 145.34363358,  88.33947435,  99.72110648,\n",
       "       190.59931593, 179.92167914,  84.56198151,  67.15354723,\n",
       "       159.3263011 , 174.00357633, 167.09409626, 103.4204563 ,\n",
       "       115.06396608,  85.58865842, 169.93277062, 136.98128817,\n",
       "       155.71879789, 133.48733062, 138.81600124, 155.62317034,\n",
       "       173.90024164, 178.83958478, 173.44079441, 111.70877485,\n",
       "        77.34113849, 144.37324841, 194.8295847 , 215.46423179,\n",
       "       162.92224557,  87.98255954, 128.46078452,  80.25324317,\n",
       "       191.33493513, 112.07064755, 105.77758943, 123.7318306 ,\n",
       "       108.63652659,  48.28900759, 207.6211737 , 101.12972846,\n",
       "        55.4571048 , 147.41142941, 115.98352003,  73.61355019,\n",
       "       120.69569367, 139.98876525, 149.72220925,  61.21540998,\n",
       "       101.9115709 , 209.0008283 ,  90.64589524,  93.91419572,\n",
       "       167.91085409, 104.66763888, 132.05639624,  95.25235516,\n",
       "       154.39631506, 141.98959592, 215.07972801, 198.64863406,\n",
       "       219.63140053,  93.71291991, 181.5398802 , 102.36702884,\n",
       "       154.1600181 ,  65.08733037,  96.35702092, 155.54405547,\n",
       "       197.93796978, 229.34349801, 140.84329243, 105.85919883,\n",
       "       133.00678641,  57.16982666, 154.88110056, 182.18756707,\n",
       "        52.36620376, 166.6973386 ,  99.59987384, 162.66068368,\n",
       "        80.85080612, 148.72844586, 140.99636   , 118.13861761,\n",
       "       162.5324569 , 182.44771901,  93.92040197, 136.8199566 ,\n",
       "        89.69263448, 115.38633724, 128.62041939, 131.30603565,\n",
       "       133.71119946, 115.71030915,  79.8944051 , 111.58004057,\n",
       "       129.08124771, 187.63648381, 106.93850251, 200.86673261,\n",
       "       102.18445416, 189.7394289 , 105.38471891,  92.73799491,\n",
       "       140.455539  ,  98.70350206, 156.70470936, 238.97368861,\n",
       "       120.92958867, 148.5339983 ,  87.30808965, 138.06489792,\n",
       "        98.20234221,  99.39077793,  85.47961601, 221.72561464,\n",
       "       190.22989454, 186.51599622, 179.59428986,  87.79926754,\n",
       "        98.09013391,  89.48615232,  68.82763521, 103.48464364,\n",
       "        60.53167926,  65.70838542, 193.77991407,  64.14120371,\n",
       "       101.36244152,  86.9607117 ,  70.98552257,  74.60521792,\n",
       "       136.81435559,  46.86241981, 204.96146881,  57.64936342,\n",
       "       161.673588  , 149.67352835, 112.08750729,  88.84116469,\n",
       "       121.73035094, 162.65217234, 178.29877059, 105.38508551,\n",
       "       170.72177317, 159.94016255, 142.41117509, 105.33175646,\n",
       "       107.9625545 , 180.56421239, 126.01655551, 187.8763123 ,\n",
       "       107.82859501,  70.94034487, 191.59685603, 156.30693236,\n",
       "        42.12914274, 198.26774016, 173.79741026, 156.36494048,\n",
       "        54.92025186, 136.39178059, 174.51954091, 102.48519158,\n",
       "        92.48744471, 216.85848072,  26.90897017,  96.46256191,\n",
       "        65.91003294,  82.68057792,  77.8599333 , 126.8568078 ,\n",
       "        66.06523329, 195.30247002, 116.20747079, 240.71399817,\n",
       "       103.75872895,  58.60744197, 184.80958491, 178.53895707,\n",
       "       122.1561544 , 211.37210944, 165.85088172, 124.83777203,\n",
       "        68.09819209,  96.14192964, 163.11543263,  65.28887697,\n",
       "       120.76188549, 162.44602466, 120.81773359, 220.61276085,\n",
       "       213.45389704, 200.76021315, 190.10660401,  81.90857235,\n",
       "       168.44692205, 199.13870337, 156.98226699,  55.68078703,\n",
       "       226.5679333 , 175.79414166,  97.35771608, 209.86890352,\n",
       "       132.19907761, 171.66630531,  85.78139892, 234.10437408,\n",
       "       193.28889622,  87.16088791, 201.76266046,  80.33516567,\n",
       "       151.55066156, 152.70731898, 167.34134536,  87.95148308,\n",
       "       130.80745316, 112.11608663, 165.47287907, 153.5171695 ,\n",
       "        64.5490707 , 187.64099417, 135.71366222, 107.82366435,\n",
       "       211.83790943,  41.95499666,  64.02622087, 212.87628492,\n",
       "        84.87473721,  90.78589744, 212.93631211,  91.92424275,\n",
       "       163.37572704, 176.51307139, 143.98244596, 175.04252077,\n",
       "        61.99112934,  98.71016306, 145.64858003, 102.64543078,\n",
       "       129.57602775, 136.33061781, 137.30178743, 159.39725127,\n",
       "       205.61326785, 164.9646996 , 107.43204924, 150.88540421,\n",
       "        89.09766781, 165.96131678, 102.28723804, 189.57485573,\n",
       "       103.48852594, 137.51178843, 176.59910177])"
      ]
     },
     "execution_count": 43,
     "metadata": {},
     "output_type": "execute_result"
    }
   ],
   "source": [
    " np.abs(user_similarity).sum(axis=1)"
   ]
  },
  {
   "cell_type": "code",
   "execution_count": 45,
   "metadata": {},
   "outputs": [],
   "source": [
    "def predict_fast_simple(ratings, similarity, kind='user'):\n",
    "    if kind == 'user':\n",
    "        return similarity.dot(ratings) / np.array([np.abs(similarity).sum(axis=1)]).T\n",
    "    elif kind == 'item':\n",
    "        return ratings.dot(similarity) / np.array([np.abs(similarity).sum(axis=1)])"
   ]
  },
  {
   "cell_type": "code",
   "execution_count": 77,
   "metadata": {},
   "outputs": [],
   "source": [
    "from sklearn.metrics import mean_squared_error\n",
    "\n",
    "def get_mse(pred, actual):\n",
    "    # Ignore nonzero terms.\n",
    "    print(actual.shape)\n",
    "    print(actual.nonzero().shape)\n",
    "    pred = pred[actual].flatten()\n",
    "    actual = actual[actual].flatten()\n",
    "    return mean_squared_error(pred, actual)"
   ]
  },
  {
   "cell_type": "code",
   "execution_count": 78,
   "metadata": {},
   "outputs": [
    {
     "name": "stdout",
     "output_type": "stream",
     "text": [
      "[[2.24217298 0.74270736 0.45042323 1.2482261  0.45273532 0.13728304\n",
      "  2.00666787 1.36978069 1.53002436 0.47571992]\n",
      " [1.70957968 0.3444968  0.31006625 0.6637658  0.25060249 0.10665637\n",
      "  1.4781582  0.79938133 1.33564153 0.38356968]\n",
      " [1.27286728 0.31212411 0.25243165 0.55668213 0.21981224 0.07563045\n",
      "  1.19118437 0.62542215 0.93199142 0.27738134]\n",
      " [1.58058842 0.34861365 0.27659326 0.62101853 0.23169131 0.07957192\n",
      "  1.3881701  0.72295822 1.0278115  0.26546134]\n",
      " [2.41462556 0.84203279 0.45388958 1.29770371 0.474751   0.10168846\n",
      "  2.04588382 1.41479256 1.37247424 0.43550766]\n",
      " [2.07750789 0.60207754 0.35826341 1.13665586 0.37261343 0.13616824\n",
      "  1.81375886 1.38239537 1.55111163 0.47434706]\n",
      " [2.1852349  0.76320776 0.40715466 1.31103061 0.46383779 0.1212054\n",
      "  1.96923209 1.48355205 1.52418546 0.48637625]\n",
      " [2.10584771 0.76840088 0.38521497 1.19320443 0.40945869 0.08558814\n",
      "  1.92633935 1.23843505 1.30184082 0.37517148]\n",
      " [1.87316039 0.4688888  0.33043676 0.85975873 0.32939426 0.10438472\n",
      "  1.56343099 1.05672098 1.3973335  0.39269398]\n",
      " [2.0703483  0.64038349 0.37397178 1.22568307 0.40880973 0.13779224\n",
      "  1.8871127  1.39425284 1.57242983 0.48662884]]\n"
     ]
    },
    {
     "ename": "IndexError",
     "evalue": "arrays used as indices must be of integer (or boolean) type",
     "output_type": "error",
     "traceback": [
      "\u001b[0;31m---------------------------------------------------------------------------\u001b[0m",
      "\u001b[0;31mIndexError\u001b[0m                                Traceback (most recent call last)",
      "\u001b[0;32m<ipython-input-78-58ce973bb0a0>\u001b[0m in \u001b[0;36m<module>\u001b[0;34m\u001b[0m\n\u001b[1;32m      3\u001b[0m \u001b[0;34m\u001b[0m\u001b[0m\n\u001b[1;32m      4\u001b[0m \u001b[0mprint\u001b[0m\u001b[0;34m(\u001b[0m\u001b[0muser_prediction\u001b[0m\u001b[0;34m[\u001b[0m\u001b[0;34m:\u001b[0m\u001b[0;36m10\u001b[0m\u001b[0;34m,\u001b[0m \u001b[0;34m:\u001b[0m\u001b[0;36m10\u001b[0m\u001b[0;34m]\u001b[0m\u001b[0;34m)\u001b[0m\u001b[0;34m\u001b[0m\u001b[0;34m\u001b[0m\u001b[0m\n\u001b[0;32m----> 5\u001b[0;31m \u001b[0mprint\u001b[0m\u001b[0;34m(\u001b[0m\u001b[0;34m'User-based CF MSE: '\u001b[0m \u001b[0;34m+\u001b[0m \u001b[0mstr\u001b[0m\u001b[0;34m(\u001b[0m\u001b[0mget_mse\u001b[0m\u001b[0;34m(\u001b[0m\u001b[0muser_prediction\u001b[0m\u001b[0;34m,\u001b[0m \u001b[0mtest\u001b[0m\u001b[0;34m)\u001b[0m\u001b[0;34m)\u001b[0m\u001b[0;34m)\u001b[0m\u001b[0;34m\u001b[0m\u001b[0;34m\u001b[0m\u001b[0m\n\u001b[0m\u001b[1;32m      6\u001b[0m \u001b[0mprint\u001b[0m\u001b[0;34m(\u001b[0m\u001b[0;34m'Item-based CF MSE: '\u001b[0m \u001b[0;34m+\u001b[0m \u001b[0mstr\u001b[0m\u001b[0;34m(\u001b[0m\u001b[0mget_mse\u001b[0m\u001b[0;34m(\u001b[0m\u001b[0mitem_prediction\u001b[0m\u001b[0;34m,\u001b[0m \u001b[0mtest\u001b[0m\u001b[0;34m)\u001b[0m\u001b[0;34m)\u001b[0m\u001b[0;34m)\u001b[0m\u001b[0;34m\u001b[0m\u001b[0;34m\u001b[0m\u001b[0m\n",
      "\u001b[0;32m<ipython-input-77-98f485bfeeee>\u001b[0m in \u001b[0;36mget_mse\u001b[0;34m(pred, actual)\u001b[0m\n\u001b[1;32m      3\u001b[0m \u001b[0;32mdef\u001b[0m \u001b[0mget_mse\u001b[0m\u001b[0;34m(\u001b[0m\u001b[0mpred\u001b[0m\u001b[0;34m,\u001b[0m \u001b[0mactual\u001b[0m\u001b[0;34m)\u001b[0m\u001b[0;34m:\u001b[0m\u001b[0;34m\u001b[0m\u001b[0;34m\u001b[0m\u001b[0m\n\u001b[1;32m      4\u001b[0m     \u001b[0;31m# Ignore nonzero terms.\u001b[0m\u001b[0;34m\u001b[0m\u001b[0;34m\u001b[0m\u001b[0;34m\u001b[0m\u001b[0m\n\u001b[0;32m----> 5\u001b[0;31m     \u001b[0mpred\u001b[0m \u001b[0;34m=\u001b[0m \u001b[0mpred\u001b[0m\u001b[0;34m[\u001b[0m\u001b[0mactual\u001b[0m\u001b[0;34m]\u001b[0m\u001b[0;34m.\u001b[0m\u001b[0mflatten\u001b[0m\u001b[0;34m(\u001b[0m\u001b[0;34m)\u001b[0m\u001b[0;34m\u001b[0m\u001b[0;34m\u001b[0m\u001b[0m\n\u001b[0m\u001b[1;32m      6\u001b[0m     \u001b[0mactual\u001b[0m \u001b[0;34m=\u001b[0m \u001b[0mactual\u001b[0m\u001b[0;34m[\u001b[0m\u001b[0mactual\u001b[0m\u001b[0;34m]\u001b[0m\u001b[0;34m.\u001b[0m\u001b[0mflatten\u001b[0m\u001b[0;34m(\u001b[0m\u001b[0;34m)\u001b[0m\u001b[0;34m\u001b[0m\u001b[0;34m\u001b[0m\u001b[0m\n\u001b[1;32m      7\u001b[0m     \u001b[0mprint\u001b[0m\u001b[0;34m(\u001b[0m\u001b[0mactual\u001b[0m\u001b[0;34m.\u001b[0m\u001b[0mshape\u001b[0m\u001b[0;34m)\u001b[0m\u001b[0;34m\u001b[0m\u001b[0;34m\u001b[0m\u001b[0m\n",
      "\u001b[0;31mIndexError\u001b[0m: arrays used as indices must be of integer (or boolean) type"
     ]
    }
   ],
   "source": [
    "item_prediction = predict_fast_simple(train, item_similarity, kind='item')\n",
    "user_prediction = predict_fast_simple(train, user_similarity, kind='user')\n",
    "\n",
    "print(user_prediction[:10, :10])\n",
    "print('User-based CF MSE: ' + str(get_mse(user_prediction, test)))\n",
    "print('Item-based CF MSE: ' + str(get_mse(item_prediction, test)))"
   ]
  },
  {
   "cell_type": "code",
   "execution_count": 58,
   "metadata": {},
   "outputs": [],
   "source": [
    "def predict_topk(ratings, similarity, kind='user', k=40):\n",
    "    pred = np.zeros(ratings.shape)\n",
    "    if kind == 'user':\n",
    "        for i in range(ratings.shape[0]):\n",
    "            top_k_users = [np.argsort(similarity[:,i])[:-k-1:-1]]\n",
    "            for j in range(ratings.shape[1]):\n",
    "                pred[i, j] = similarity[i, :][top_k_users].dot(ratings[:, j][top_k_users]) \n",
    "                pred[i, j] /= np.sum(np.abs(similarity[i, :][top_k_users]))\n",
    "    if kind == 'item':\n",
    "        for j in range(ratings.shape[1]):\n",
    "            top_k_items = [np.argsort(similarity[:,j])[:-k-1:-1]]\n",
    "            for i in range(ratings.shape[0]):\n",
    "                pred[i, j] = similarity[j, :][top_k_items].dot(ratings[i, :][top_k_items].T) \n",
    "                pred[i, j] /= np.sum(np.abs(similarity[j, :][top_k_items]))        \n",
    "    \n",
    "    return pred"
   ]
  },
  {
   "cell_type": "code",
   "execution_count": 59,
   "metadata": {},
   "outputs": [
    {
     "name": "stderr",
     "output_type": "stream",
     "text": [
      "/usr/local/lib/python3.7/site-packages/ipykernel_launcher.py:7: FutureWarning: Using a non-tuple sequence for multidimensional indexing is deprecated; use `arr[tuple(seq)]` instead of `arr[seq]`. In the future this will be interpreted as an array index, `arr[np.array(seq)]`, which will result either in an error or a different result.\n",
      "  import sys\n",
      "/usr/local/lib/python3.7/site-packages/ipykernel_launcher.py:8: FutureWarning: Using a non-tuple sequence for multidimensional indexing is deprecated; use `arr[tuple(seq)]` instead of `arr[seq]`. In the future this will be interpreted as an array index, `arr[np.array(seq)]`, which will result either in an error or a different result.\n",
      "  \n"
     ]
    },
    {
     "name": "stdout",
     "output_type": "stream",
     "text": [
      "Top-k User-based CF MSE: 6.461855788441089\n"
     ]
    },
    {
     "name": "stderr",
     "output_type": "stream",
     "text": [
      "/usr/local/lib/python3.7/site-packages/ipykernel_launcher.py:13: FutureWarning: Using a non-tuple sequence for multidimensional indexing is deprecated; use `arr[tuple(seq)]` instead of `arr[seq]`. In the future this will be interpreted as an array index, `arr[np.array(seq)]`, which will result either in an error or a different result.\n",
      "  del sys.path[0]\n",
      "/usr/local/lib/python3.7/site-packages/ipykernel_launcher.py:14: FutureWarning: Using a non-tuple sequence for multidimensional indexing is deprecated; use `arr[tuple(seq)]` instead of `arr[seq]`. In the future this will be interpreted as an array index, `arr[np.array(seq)]`, which will result either in an error or a different result.\n",
      "  \n"
     ]
    },
    {
     "name": "stdout",
     "output_type": "stream",
     "text": [
      "Top-k Item-based CF MSE: 7.681815983196061\n"
     ]
    }
   ],
   "source": [
    "pred = predict_topk(train, user_similarity, kind='user', k=40)\n",
    "print('Top-k User-based CF MSE: ' + str(get_mse(pred, test)))\n",
    "\n",
    "pred = predict_topk(train, item_similarity, kind='item', k=40)\n",
    "print('Top-k Item-based CF MSE: ' + str(get_mse(pred, test)))\n"
   ]
  },
  {
   "cell_type": "code",
   "execution_count": 60,
   "metadata": {},
   "outputs": [
    {
     "name": "stderr",
     "output_type": "stream",
     "text": [
      "/usr/local/lib/python3.7/site-packages/ipykernel_launcher.py:7: FutureWarning: Using a non-tuple sequence for multidimensional indexing is deprecated; use `arr[tuple(seq)]` instead of `arr[seq]`. In the future this will be interpreted as an array index, `arr[np.array(seq)]`, which will result either in an error or a different result.\n",
      "  import sys\n",
      "/usr/local/lib/python3.7/site-packages/ipykernel_launcher.py:8: FutureWarning: Using a non-tuple sequence for multidimensional indexing is deprecated; use `arr[tuple(seq)]` instead of `arr[seq]`. In the future this will be interpreted as an array index, `arr[np.array(seq)]`, which will result either in an error or a different result.\n",
      "  \n",
      "/usr/local/lib/python3.7/site-packages/ipykernel_launcher.py:13: FutureWarning: Using a non-tuple sequence for multidimensional indexing is deprecated; use `arr[tuple(seq)]` instead of `arr[seq]`. In the future this will be interpreted as an array index, `arr[np.array(seq)]`, which will result either in an error or a different result.\n",
      "  del sys.path[0]\n",
      "/usr/local/lib/python3.7/site-packages/ipykernel_launcher.py:14: FutureWarning: Using a non-tuple sequence for multidimensional indexing is deprecated; use `arr[tuple(seq)]` instead of `arr[seq]`. In the future this will be interpreted as an array index, `arr[np.array(seq)]`, which will result either in an error or a different result.\n",
      "  \n",
      "/usr/local/lib/python3.7/site-packages/ipykernel_launcher.py:7: FutureWarning: Using a non-tuple sequence for multidimensional indexing is deprecated; use `arr[tuple(seq)]` instead of `arr[seq]`. In the future this will be interpreted as an array index, `arr[np.array(seq)]`, which will result either in an error or a different result.\n",
      "  import sys\n",
      "/usr/local/lib/python3.7/site-packages/ipykernel_launcher.py:8: FutureWarning: Using a non-tuple sequence for multidimensional indexing is deprecated; use `arr[tuple(seq)]` instead of `arr[seq]`. In the future this will be interpreted as an array index, `arr[np.array(seq)]`, which will result either in an error or a different result.\n",
      "  \n",
      "/usr/local/lib/python3.7/site-packages/ipykernel_launcher.py:13: FutureWarning: Using a non-tuple sequence for multidimensional indexing is deprecated; use `arr[tuple(seq)]` instead of `arr[seq]`. In the future this will be interpreted as an array index, `arr[np.array(seq)]`, which will result either in an error or a different result.\n",
      "  del sys.path[0]\n",
      "/usr/local/lib/python3.7/site-packages/ipykernel_launcher.py:14: FutureWarning: Using a non-tuple sequence for multidimensional indexing is deprecated; use `arr[tuple(seq)]` instead of `arr[seq]`. In the future this will be interpreted as an array index, `arr[np.array(seq)]`, which will result either in an error or a different result.\n",
      "  \n",
      "/usr/local/lib/python3.7/site-packages/ipykernel_launcher.py:7: FutureWarning: Using a non-tuple sequence for multidimensional indexing is deprecated; use `arr[tuple(seq)]` instead of `arr[seq]`. In the future this will be interpreted as an array index, `arr[np.array(seq)]`, which will result either in an error or a different result.\n",
      "  import sys\n",
      "/usr/local/lib/python3.7/site-packages/ipykernel_launcher.py:8: FutureWarning: Using a non-tuple sequence for multidimensional indexing is deprecated; use `arr[tuple(seq)]` instead of `arr[seq]`. In the future this will be interpreted as an array index, `arr[np.array(seq)]`, which will result either in an error or a different result.\n",
      "  \n",
      "/usr/local/lib/python3.7/site-packages/ipykernel_launcher.py:13: FutureWarning: Using a non-tuple sequence for multidimensional indexing is deprecated; use `arr[tuple(seq)]` instead of `arr[seq]`. In the future this will be interpreted as an array index, `arr[np.array(seq)]`, which will result either in an error or a different result.\n",
      "  del sys.path[0]\n",
      "/usr/local/lib/python3.7/site-packages/ipykernel_launcher.py:14: FutureWarning: Using a non-tuple sequence for multidimensional indexing is deprecated; use `arr[tuple(seq)]` instead of `arr[seq]`. In the future this will be interpreted as an array index, `arr[np.array(seq)]`, which will result either in an error or a different result.\n",
      "  \n",
      "/usr/local/lib/python3.7/site-packages/ipykernel_launcher.py:7: FutureWarning: Using a non-tuple sequence for multidimensional indexing is deprecated; use `arr[tuple(seq)]` instead of `arr[seq]`. In the future this will be interpreted as an array index, `arr[np.array(seq)]`, which will result either in an error or a different result.\n",
      "  import sys\n",
      "/usr/local/lib/python3.7/site-packages/ipykernel_launcher.py:8: FutureWarning: Using a non-tuple sequence for multidimensional indexing is deprecated; use `arr[tuple(seq)]` instead of `arr[seq]`. In the future this will be interpreted as an array index, `arr[np.array(seq)]`, which will result either in an error or a different result.\n",
      "  \n",
      "/usr/local/lib/python3.7/site-packages/ipykernel_launcher.py:13: FutureWarning: Using a non-tuple sequence for multidimensional indexing is deprecated; use `arr[tuple(seq)]` instead of `arr[seq]`. In the future this will be interpreted as an array index, `arr[np.array(seq)]`, which will result either in an error or a different result.\n",
      "  del sys.path[0]\n",
      "/usr/local/lib/python3.7/site-packages/ipykernel_launcher.py:14: FutureWarning: Using a non-tuple sequence for multidimensional indexing is deprecated; use `arr[tuple(seq)]` instead of `arr[seq]`. In the future this will be interpreted as an array index, `arr[np.array(seq)]`, which will result either in an error or a different result.\n",
      "  \n",
      "/usr/local/lib/python3.7/site-packages/ipykernel_launcher.py:7: FutureWarning: Using a non-tuple sequence for multidimensional indexing is deprecated; use `arr[tuple(seq)]` instead of `arr[seq]`. In the future this will be interpreted as an array index, `arr[np.array(seq)]`, which will result either in an error or a different result.\n",
      "  import sys\n",
      "/usr/local/lib/python3.7/site-packages/ipykernel_launcher.py:8: FutureWarning: Using a non-tuple sequence for multidimensional indexing is deprecated; use `arr[tuple(seq)]` instead of `arr[seq]`. In the future this will be interpreted as an array index, `arr[np.array(seq)]`, which will result either in an error or a different result.\n",
      "  \n",
      "/usr/local/lib/python3.7/site-packages/ipykernel_launcher.py:13: FutureWarning: Using a non-tuple sequence for multidimensional indexing is deprecated; use `arr[tuple(seq)]` instead of `arr[seq]`. In the future this will be interpreted as an array index, `arr[np.array(seq)]`, which will result either in an error or a different result.\n",
      "  del sys.path[0]\n",
      "/usr/local/lib/python3.7/site-packages/ipykernel_launcher.py:14: FutureWarning: Using a non-tuple sequence for multidimensional indexing is deprecated; use `arr[tuple(seq)]` instead of `arr[seq]`. In the future this will be interpreted as an array index, `arr[np.array(seq)]`, which will result either in an error or a different result.\n",
      "  \n",
      "/usr/local/lib/python3.7/site-packages/ipykernel_launcher.py:7: FutureWarning: Using a non-tuple sequence for multidimensional indexing is deprecated; use `arr[tuple(seq)]` instead of `arr[seq]`. In the future this will be interpreted as an array index, `arr[np.array(seq)]`, which will result either in an error or a different result.\n",
      "  import sys\n",
      "/usr/local/lib/python3.7/site-packages/ipykernel_launcher.py:8: FutureWarning: Using a non-tuple sequence for multidimensional indexing is deprecated; use `arr[tuple(seq)]` instead of `arr[seq]`. In the future this will be interpreted as an array index, `arr[np.array(seq)]`, which will result either in an error or a different result.\n",
      "  \n",
      "/usr/local/lib/python3.7/site-packages/ipykernel_launcher.py:13: FutureWarning: Using a non-tuple sequence for multidimensional indexing is deprecated; use `arr[tuple(seq)]` instead of `arr[seq]`. In the future this will be interpreted as an array index, `arr[np.array(seq)]`, which will result either in an error or a different result.\n",
      "  del sys.path[0]\n",
      "/usr/local/lib/python3.7/site-packages/ipykernel_launcher.py:14: FutureWarning: Using a non-tuple sequence for multidimensional indexing is deprecated; use `arr[tuple(seq)]` instead of `arr[seq]`. In the future this will be interpreted as an array index, `arr[np.array(seq)]`, which will result either in an error or a different result.\n",
      "  \n"
     ]
    }
   ],
   "source": [
    "k_array = [5, 15, 30, 50, 100, 200]\n",
    "user_train_mse = []\n",
    "user_test_mse = []\n",
    "item_test_mse = []\n",
    "item_train_mse = []\n",
    "\n",
    "def get_mse(pred, actual):\n",
    "    pred = pred[actual.nonzero()].flatten()\n",
    "    actual = actual[actual.nonzero()].flatten()\n",
    "    return mean_squared_error(pred, actual)\n",
    "\n",
    "for k in k_array:\n",
    "    user_pred = predict_topk(train, user_similarity, kind='user', k=k)\n",
    "    item_pred = predict_topk(train, item_similarity, kind='item', k=k)\n",
    "    \n",
    "    user_train_mse += [get_mse(user_pred, train)]\n",
    "    user_test_mse += [get_mse(user_pred, test)]\n",
    "    \n",
    "    item_train_mse += [get_mse(item_pred, train)]\n",
    "    item_test_mse += [get_mse(item_pred, test)]  "
   ]
  },
  {
   "cell_type": "code",
   "execution_count": 63,
   "metadata": {},
   "outputs": [
    {
     "ename": "ModuleNotFoundError",
     "evalue": "No module named 'matplotlib'",
     "output_type": "error",
     "traceback": [
      "\u001b[0;31m---------------------------------------------------------------------------\u001b[0m",
      "\u001b[0;31mModuleNotFoundError\u001b[0m                       Traceback (most recent call last)",
      "\u001b[0;32m<ipython-input-63-d2cf081748e8>\u001b[0m in \u001b[0;36m<module>\u001b[0;34m\u001b[0m\n\u001b[0;32m----> 1\u001b[0;31m \u001b[0mget_ipython\u001b[0m\u001b[0;34m(\u001b[0m\u001b[0;34m)\u001b[0m\u001b[0;34m.\u001b[0m\u001b[0mrun_line_magic\u001b[0m\u001b[0;34m(\u001b[0m\u001b[0;34m'matplotlib'\u001b[0m\u001b[0;34m,\u001b[0m \u001b[0;34m'inline'\u001b[0m\u001b[0;34m)\u001b[0m\u001b[0;34m\u001b[0m\u001b[0;34m\u001b[0m\u001b[0m\n\u001b[0m\u001b[1;32m      2\u001b[0m \u001b[0;32mimport\u001b[0m \u001b[0mmatplotlib\u001b[0m\u001b[0;34m.\u001b[0m\u001b[0mpyplot\u001b[0m \u001b[0;32mas\u001b[0m \u001b[0mplt\u001b[0m\u001b[0;34m\u001b[0m\u001b[0;34m\u001b[0m\u001b[0m\n\u001b[1;32m      3\u001b[0m \u001b[0;32mimport\u001b[0m \u001b[0mseaborn\u001b[0m \u001b[0;32mas\u001b[0m \u001b[0msns\u001b[0m\u001b[0;34m\u001b[0m\u001b[0;34m\u001b[0m\u001b[0m\n\u001b[1;32m      4\u001b[0m \u001b[0msns\u001b[0m\u001b[0;34m.\u001b[0m\u001b[0mset\u001b[0m\u001b[0;34m(\u001b[0m\u001b[0;34m)\u001b[0m\u001b[0;34m\u001b[0m\u001b[0;34m\u001b[0m\u001b[0m\n\u001b[1;32m      5\u001b[0m \u001b[0;34m\u001b[0m\u001b[0m\n",
      "\u001b[0;32m/usr/local/lib/python3.7/site-packages/IPython/core/interactiveshell.py\u001b[0m in \u001b[0;36mrun_line_magic\u001b[0;34m(self, magic_name, line, _stack_depth)\u001b[0m\n\u001b[1;32m   2312\u001b[0m                 \u001b[0mkwargs\u001b[0m\u001b[0;34m[\u001b[0m\u001b[0;34m'local_ns'\u001b[0m\u001b[0;34m]\u001b[0m \u001b[0;34m=\u001b[0m \u001b[0msys\u001b[0m\u001b[0;34m.\u001b[0m\u001b[0m_getframe\u001b[0m\u001b[0;34m(\u001b[0m\u001b[0mstack_depth\u001b[0m\u001b[0;34m)\u001b[0m\u001b[0;34m.\u001b[0m\u001b[0mf_locals\u001b[0m\u001b[0;34m\u001b[0m\u001b[0;34m\u001b[0m\u001b[0m\n\u001b[1;32m   2313\u001b[0m             \u001b[0;32mwith\u001b[0m \u001b[0mself\u001b[0m\u001b[0;34m.\u001b[0m\u001b[0mbuiltin_trap\u001b[0m\u001b[0;34m:\u001b[0m\u001b[0;34m\u001b[0m\u001b[0;34m\u001b[0m\u001b[0m\n\u001b[0;32m-> 2314\u001b[0;31m                 \u001b[0mresult\u001b[0m \u001b[0;34m=\u001b[0m \u001b[0mfn\u001b[0m\u001b[0;34m(\u001b[0m\u001b[0;34m*\u001b[0m\u001b[0margs\u001b[0m\u001b[0;34m,\u001b[0m \u001b[0;34m**\u001b[0m\u001b[0mkwargs\u001b[0m\u001b[0;34m)\u001b[0m\u001b[0;34m\u001b[0m\u001b[0;34m\u001b[0m\u001b[0m\n\u001b[0m\u001b[1;32m   2315\u001b[0m             \u001b[0;32mreturn\u001b[0m \u001b[0mresult\u001b[0m\u001b[0;34m\u001b[0m\u001b[0;34m\u001b[0m\u001b[0m\n\u001b[1;32m   2316\u001b[0m \u001b[0;34m\u001b[0m\u001b[0m\n",
      "\u001b[0;32m</usr/local/lib/python3.7/site-packages/decorator.py:decorator-gen-108>\u001b[0m in \u001b[0;36mmatplotlib\u001b[0;34m(self, line)\u001b[0m\n",
      "\u001b[0;32m/usr/local/lib/python3.7/site-packages/IPython/core/magic.py\u001b[0m in \u001b[0;36m<lambda>\u001b[0;34m(f, *a, **k)\u001b[0m\n\u001b[1;32m    185\u001b[0m     \u001b[0;31m# but it's overkill for just that one bit of state.\u001b[0m\u001b[0;34m\u001b[0m\u001b[0;34m\u001b[0m\u001b[0;34m\u001b[0m\u001b[0m\n\u001b[1;32m    186\u001b[0m     \u001b[0;32mdef\u001b[0m \u001b[0mmagic_deco\u001b[0m\u001b[0;34m(\u001b[0m\u001b[0marg\u001b[0m\u001b[0;34m)\u001b[0m\u001b[0;34m:\u001b[0m\u001b[0;34m\u001b[0m\u001b[0;34m\u001b[0m\u001b[0m\n\u001b[0;32m--> 187\u001b[0;31m         \u001b[0mcall\u001b[0m \u001b[0;34m=\u001b[0m \u001b[0;32mlambda\u001b[0m \u001b[0mf\u001b[0m\u001b[0;34m,\u001b[0m \u001b[0;34m*\u001b[0m\u001b[0ma\u001b[0m\u001b[0;34m,\u001b[0m \u001b[0;34m**\u001b[0m\u001b[0mk\u001b[0m\u001b[0;34m:\u001b[0m \u001b[0mf\u001b[0m\u001b[0;34m(\u001b[0m\u001b[0;34m*\u001b[0m\u001b[0ma\u001b[0m\u001b[0;34m,\u001b[0m \u001b[0;34m**\u001b[0m\u001b[0mk\u001b[0m\u001b[0;34m)\u001b[0m\u001b[0;34m\u001b[0m\u001b[0;34m\u001b[0m\u001b[0m\n\u001b[0m\u001b[1;32m    188\u001b[0m \u001b[0;34m\u001b[0m\u001b[0m\n\u001b[1;32m    189\u001b[0m         \u001b[0;32mif\u001b[0m \u001b[0mcallable\u001b[0m\u001b[0;34m(\u001b[0m\u001b[0marg\u001b[0m\u001b[0;34m)\u001b[0m\u001b[0;34m:\u001b[0m\u001b[0;34m\u001b[0m\u001b[0;34m\u001b[0m\u001b[0m\n",
      "\u001b[0;32m/usr/local/lib/python3.7/site-packages/IPython/core/magics/pylab.py\u001b[0m in \u001b[0;36mmatplotlib\u001b[0;34m(self, line)\u001b[0m\n\u001b[1;32m     97\u001b[0m             \u001b[0mprint\u001b[0m\u001b[0;34m(\u001b[0m\u001b[0;34m\"Available matplotlib backends: %s\"\u001b[0m \u001b[0;34m%\u001b[0m \u001b[0mbackends_list\u001b[0m\u001b[0;34m)\u001b[0m\u001b[0;34m\u001b[0m\u001b[0;34m\u001b[0m\u001b[0m\n\u001b[1;32m     98\u001b[0m         \u001b[0;32melse\u001b[0m\u001b[0;34m:\u001b[0m\u001b[0;34m\u001b[0m\u001b[0;34m\u001b[0m\u001b[0m\n\u001b[0;32m---> 99\u001b[0;31m             \u001b[0mgui\u001b[0m\u001b[0;34m,\u001b[0m \u001b[0mbackend\u001b[0m \u001b[0;34m=\u001b[0m \u001b[0mself\u001b[0m\u001b[0;34m.\u001b[0m\u001b[0mshell\u001b[0m\u001b[0;34m.\u001b[0m\u001b[0menable_matplotlib\u001b[0m\u001b[0;34m(\u001b[0m\u001b[0margs\u001b[0m\u001b[0;34m.\u001b[0m\u001b[0mgui\u001b[0m\u001b[0;34m.\u001b[0m\u001b[0mlower\u001b[0m\u001b[0;34m(\u001b[0m\u001b[0;34m)\u001b[0m \u001b[0;32mif\u001b[0m \u001b[0misinstance\u001b[0m\u001b[0;34m(\u001b[0m\u001b[0margs\u001b[0m\u001b[0;34m.\u001b[0m\u001b[0mgui\u001b[0m\u001b[0;34m,\u001b[0m \u001b[0mstr\u001b[0m\u001b[0;34m)\u001b[0m \u001b[0;32melse\u001b[0m \u001b[0margs\u001b[0m\u001b[0;34m.\u001b[0m\u001b[0mgui\u001b[0m\u001b[0;34m)\u001b[0m\u001b[0;34m\u001b[0m\u001b[0;34m\u001b[0m\u001b[0m\n\u001b[0m\u001b[1;32m    100\u001b[0m             \u001b[0mself\u001b[0m\u001b[0;34m.\u001b[0m\u001b[0m_show_matplotlib_backend\u001b[0m\u001b[0;34m(\u001b[0m\u001b[0margs\u001b[0m\u001b[0;34m.\u001b[0m\u001b[0mgui\u001b[0m\u001b[0;34m,\u001b[0m \u001b[0mbackend\u001b[0m\u001b[0;34m)\u001b[0m\u001b[0;34m\u001b[0m\u001b[0;34m\u001b[0m\u001b[0m\n\u001b[1;32m    101\u001b[0m \u001b[0;34m\u001b[0m\u001b[0m\n",
      "\u001b[0;32m/usr/local/lib/python3.7/site-packages/IPython/core/interactiveshell.py\u001b[0m in \u001b[0;36menable_matplotlib\u001b[0;34m(self, gui)\u001b[0m\n\u001b[1;32m   3400\u001b[0m         \"\"\"\n\u001b[1;32m   3401\u001b[0m         \u001b[0;32mfrom\u001b[0m \u001b[0mIPython\u001b[0m\u001b[0;34m.\u001b[0m\u001b[0mcore\u001b[0m \u001b[0;32mimport\u001b[0m \u001b[0mpylabtools\u001b[0m \u001b[0;32mas\u001b[0m \u001b[0mpt\u001b[0m\u001b[0;34m\u001b[0m\u001b[0;34m\u001b[0m\u001b[0m\n\u001b[0;32m-> 3402\u001b[0;31m         \u001b[0mgui\u001b[0m\u001b[0;34m,\u001b[0m \u001b[0mbackend\u001b[0m \u001b[0;34m=\u001b[0m \u001b[0mpt\u001b[0m\u001b[0;34m.\u001b[0m\u001b[0mfind_gui_and_backend\u001b[0m\u001b[0;34m(\u001b[0m\u001b[0mgui\u001b[0m\u001b[0;34m,\u001b[0m \u001b[0mself\u001b[0m\u001b[0;34m.\u001b[0m\u001b[0mpylab_gui_select\u001b[0m\u001b[0;34m)\u001b[0m\u001b[0;34m\u001b[0m\u001b[0;34m\u001b[0m\u001b[0m\n\u001b[0m\u001b[1;32m   3403\u001b[0m \u001b[0;34m\u001b[0m\u001b[0m\n\u001b[1;32m   3404\u001b[0m         \u001b[0;32mif\u001b[0m \u001b[0mgui\u001b[0m \u001b[0;34m!=\u001b[0m \u001b[0;34m'inline'\u001b[0m\u001b[0;34m:\u001b[0m\u001b[0;34m\u001b[0m\u001b[0;34m\u001b[0m\u001b[0m\n",
      "\u001b[0;32m/usr/local/lib/python3.7/site-packages/IPython/core/pylabtools.py\u001b[0m in \u001b[0;36mfind_gui_and_backend\u001b[0;34m(gui, gui_select)\u001b[0m\n\u001b[1;32m    274\u001b[0m     \"\"\"\n\u001b[1;32m    275\u001b[0m \u001b[0;34m\u001b[0m\u001b[0m\n\u001b[0;32m--> 276\u001b[0;31m     \u001b[0;32mimport\u001b[0m \u001b[0mmatplotlib\u001b[0m\u001b[0;34m\u001b[0m\u001b[0;34m\u001b[0m\u001b[0m\n\u001b[0m\u001b[1;32m    277\u001b[0m \u001b[0;34m\u001b[0m\u001b[0m\n\u001b[1;32m    278\u001b[0m     \u001b[0;32mif\u001b[0m \u001b[0mgui\u001b[0m \u001b[0;32mand\u001b[0m \u001b[0mgui\u001b[0m \u001b[0;34m!=\u001b[0m \u001b[0;34m'auto'\u001b[0m\u001b[0;34m:\u001b[0m\u001b[0;34m\u001b[0m\u001b[0;34m\u001b[0m\u001b[0m\n",
      "\u001b[0;31mModuleNotFoundError\u001b[0m: No module named 'matplotlib'"
     ]
    }
   ],
   "source": [
    "%matplotlib inline\n",
    "import matplotlib.pyplot as plt\n",
    "import seaborn as sns\n",
    "sns.set()\n",
    "\n",
    "pal = sns.color_palette(\"Set2\", 2)\n",
    "\n",
    "plt.figure(figsize=(8, 8))\n",
    "plt.plot(k_array, user_train_mse, c=pal[0], label='User-based train', alpha=0.5, linewidth=5)\n",
    "plt.plot(k_array, user_test_mse, c=pal[0], label='User-based test', linewidth=5)\n",
    "plt.plot(k_array, item_train_mse, c=pal[1], label='Item-based train', alpha=0.5, linewidth=5)\n",
    "plt.plot(k_array, item_test_mse, c=pal[1], label='Item-based test', linewidth=5)\n",
    "plt.legend(loc='best', fontsize=20)\n",
    "plt.xticks(fontsize=16);\n",
    "plt.yticks(fontsize=16);\n",
    "plt.xlabel('k', fontsize=30);\n",
    "plt.ylabel('MSE', fontsize=30);"
   ]
  },
  {
   "cell_type": "code",
   "execution_count": null,
   "metadata": {},
   "outputs": [],
   "source": []
  }
 ],
 "metadata": {
  "kernelspec": {
   "display_name": "Python 3",
   "language": "python",
   "name": "python3"
  },
  "language_info": {
   "codemirror_mode": {
    "name": "ipython",
    "version": 3
   },
   "file_extension": ".py",
   "mimetype": "text/x-python",
   "name": "python",
   "nbconvert_exporter": "python",
   "pygments_lexer": "ipython3",
   "version": "3.7.4"
  }
 },
 "nbformat": 4,
 "nbformat_minor": 2
}
